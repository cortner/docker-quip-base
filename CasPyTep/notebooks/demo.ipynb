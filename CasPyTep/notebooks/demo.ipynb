{
 "cells": [
  {
   "cell_type": "markdown",
   "metadata": {
    "slideshow": {
     "slide_type": "slide"
    }
   },
   "source": [
    "<center>\n",
    "<img src=\"warwick-logo.png\">\n",
    "<h1>CasPyTep - a deep Python interface to Castep</h1>\n",
    "<h3>James Kermode</h3>\n",
    "Warwick Centre for Predictive Modelling / School of Engineering<br>\n",
    "University of Warwick<br>\n",
    "http://wwww.warwick.ac.uk/jrkermode<br>\n",
    "17th August 2017\n",
    "<img src=\"WCPM_logo_text.png\" width=\"30%\">\n",
    "</center>"
   ]
  },
  {
   "cell_type": "markdown",
   "metadata": {
    "slideshow": {
     "slide_type": "slide"
    }
   },
   "source": [
    "# Introduction\n",
    "\n",
    "- Interfacing codes allows existing tools to be combined\n",
    "- Produce something that is more than the sum of the constituent parts \n",
    "- General feature of modern scientific computing: many well-documented libraries available\n",
    "- Python has emerged as the *de facto* standard “glue” language\n",
    "- Codes that have a Python interface can be combined in complex ways"
   ]
  },
  {
   "cell_type": "markdown",
   "metadata": {
    "slideshow": {
     "slide_type": "slide"
    }
   },
   "source": [
    "# Python scripting for interoperability\n",
    "\n",
    "- [numpy](http://www.numpy.org/)/[scipy](http://scipy.org/) ecosystem\n",
    "- [matplotlib](http://matplotlib.org/) plotting and interactive graphics\n",
    "- [jupyter](https://jupyter.org/)/IPython notebooks encourage reproducible research\n",
    "- [anaconda](https://jupyter.org/) distribution and package management system\n",
    "   \n",
    "<center><img src=\"scipy-stack.png\" width=\"70%\"></center>\n",
    "\n",
    "http://www.scipy.org"
   ]
  },
  {
   "cell_type": "markdown",
   "metadata": {
    "slideshow": {
     "slide_type": "slide"
    }
   },
   "source": [
    "# Atomic Simulation Environment (ASE)\n",
    "\n",
    "- Within atomistic modelling, emerging standard for scripting interfaces is ASE\n",
    "- Wide range of calculators, flexible (but not too flexible) data model for Atoms objects\n",
    "- Can use many codes as drop-in replacements:\n",
    "\n",
    "<center><img src=\"ase-calculators.png\" width=\"60%\"></center>\n",
    "\n",
    "\n",
    "https://wiki.fysik.dtu.dk/ase/"
   ]
  },
  {
   "cell_type": "markdown",
   "metadata": {
    "slideshow": {
     "slide_type": "slide"
    }
   },
   "source": [
    "# Atomic Simulation Environment (ASE)\n",
    "\n",
    "- ASE mostly uses file-based interfaces: input generators and output parsers\n",
    "- Collection of parsers aids validation and verification - cf. DFT $\\Delta$-code project\n",
    "- Coupling $N$ codes requires maintaining $N$ parsers/interfaces, rather than $N^2$ converters\n",
    "- High-level functionality can be coded generically, or imported from other packages (e.g. `spglib`, `phonopy`) using minimal ASE-compatible API"
   ]
  },
  {
   "cell_type": "markdown",
   "metadata": {
    "slideshow": {
     "slide_type": "slide"
    }
   },
   "source": [
    "# File-based interfaces vs. Native interfaces\n",
    "\n",
    "- File-based interfaces (like those mostly used in ASE) to electronic structure codes can be slow and/or incomplete and parsers are hard to keep up to date and robust\n",
    "- Standardised output (e.g. chemical markup language, XML, JSON) part of solution\n",
    "- So are robust parsers - [NoMaD Centre of Excellence](http://nomad-coe.eu/) is producing parsers for top ~40 electronic structure and atomistic codes\n",
    "- **Alternative:** native interfaces provide a much deeper wrapping, exposing full public API of code to script writers (e.g. GPAW, LAMMPSlib)\n",
    "- **Future proofing:** anything accessible from Python works with other high-level languages (e.g. Julia)"
   ]
  },
  {
   "cell_type": "markdown",
   "metadata": {
    "slideshow": {
     "slide_type": "slide"
    }
   },
   "source": [
    "   \n",
    "# `f90wrap` adds derived type support to `f2py`\n",
    "\n",
    "- Writing deep Python interfaces 'by hand' is possible but tedious\n",
    "- There are good automatic interface generators for C++ codes (e.g. SWIG or Boost.Python), but none support modern Fortran\n",
    "    - There's still lots of high-quality Fortran code around...\n",
    "    - [f2py](https://sysbio.ioc.ee/projects/f2py2e/) scans Fortran 77/90/95 codes, generates Python interfaces for individual routines\n",
    "    - No support for modern Fortran features: derived types, overloaded interfaces\n",
    "- My `f90wrap` package addresses this by generating an additional layer of wrappers, adding support for derived types, module data, efficient array access, Python 2.6+ and 3.x\n",
    "\n",
    "https://github.com/jameskermode/f90wrap    "
   ]
  },
  {
   "cell_type": "markdown",
   "metadata": {
    "slideshow": {
     "slide_type": "slide"
    }
   },
   "source": [
    "# Example: wrapping  the `bader` code\n",
    "\n",
    "- Widely used code for post-processing charge densities to construct Bader volumes\n",
    "- Python interface would allow code to be used in workflows without I/O etc.\n",
    "- Downloaded [source](http://theory.cm.utexas.edu/henkelman/code/bader/), used `f90wrap` to *automatically* generate a deep Python interface with very little manual work"
   ]
  },
  {
   "cell_type": "code",
   "execution_count": null,
   "metadata": {
    "scrolled": true,
    "slideshow": {
     "slide_type": "-"
    }
   },
   "outputs": [],
   "source": [
    "!git clone https://gitlab.com/jameskermode/bader\n",
    "!make PY_INSTALL_DIR=/usr/local/lib/python2.7/site-packages -C bader \\\n",
    "    -f makefile.osx_gfortran python\n",
    "!rm -r bader"
   ]
  },
  {
   "cell_type": "markdown",
   "metadata": {
    "slideshow": {
     "slide_type": "slide"
    }
   },
   "source": [
    "# Example: wrapping the `bader` code (contd.)\n",
    "\n",
    "Restart a `gpaw` DFT calculation and retrieve the density:"
   ]
  },
  {
   "cell_type": "code",
   "execution_count": null,
   "metadata": {
    "slideshow": {
     "slide_type": "-"
    }
   },
   "outputs": [],
   "source": [
    "from gpaw import restart\n",
    "si, gpaw = restart('si-vac.gpw')\n",
    "rho = gpaw.get_pseudo_density()"
   ]
  },
  {
   "cell_type": "code",
   "execution_count": null,
   "metadata": {
    "slideshow": {
     "slide_type": "slide"
    }
   },
   "outputs": [],
   "source": [
    "%pylab inline\n",
    "figsize(8,8)\n",
    "\n",
    "atom = 5\n",
    "plot(si.positions[:, 0], si.positions[:, 1], 'r.', ms=50)\n",
    "plot(si.positions[atom, 0], si.positions[5, 1], 'g.', ms=50)\n",
    "imshow(rho[:,:,0], extent=[0, si.cell[0,0], 0, si.cell[1,1]]);"
   ]
  },
  {
   "cell_type": "code",
   "execution_count": null,
   "metadata": {
    "slideshow": {
     "slide_type": "slide"
    }
   },
   "outputs": [],
   "source": [
    "import bader\n",
    "from caspytep.util import capture_stdout\n",
    "\n",
    "with capture_stdout():\n",
    "    bdr = bader.bader(si, rho)\n",
    "\n",
    "print bdr.ionchg"
   ]
  },
  {
   "cell_type": "code",
   "execution_count": null,
   "metadata": {
    "scrolled": true,
    "slideshow": {
     "slide_type": "slide"
    }
   },
   "outputs": [],
   "source": [
    "# collect Bader volumes associated with atom #5\n",
    "mask = np.zeros_like(rho, dtype=bool)\n",
    "for v in (bdr.nnion == atom+1).nonzero()[0]:\n",
    "    mask[bdr.volnum == v+1] = True\n",
    "    \n",
    "plot(si.positions[:, 0], si.positions[:, 1], 'r.', ms=50)\n",
    "plot(si.positions[atom, 0], si.positions[5, 1], 'g.', ms=50)\n",
    "imshow(rho[:,:,0],  extent=[0, si.cell[0,0], 0, si.cell[1,1]])\n",
    "imshow(mask[:,:,0], extent=[0, si.cell[0,0], 0, si.cell[1,1]], alpha=.6)"
   ]
  },
  {
   "cell_type": "markdown",
   "metadata": {
    "slideshow": {
     "slide_type": "slide"
    }
   },
   "source": [
    "# Wrapping Castep with f90wrap - CasPyTep\n",
    "\n",
    "- `f90wrap` can now wrap large codes like Castep to provide deep access to internal data \n",
    "- Summer project in 2014 by Greg Corbett at STFC built proof-of-principle Castep/Python interface. Results described in [RAL technical report](https://epubs.stfc.ac.uk/work/18048381)\n",
    "- We took this a bit further at Castep codefest in 2015\n",
    "- Warwick MSc student Sebastian Potthoff wrote his dissertation on `CasPyTep` in 2016, adding MPI support and optimising performance of Nudged Elastic Band algorithm, coded in Python\n",
    "- Since then I've tidied it up a little, fixed a few bugs, and added a minimal high-level ASE-compatibility layer, but there's lots still to be done...\n",
    "- **Latest development:** this week I've packaged `CasPyTep` into a relocatable Docker image, to hopefully improve accessibilty and uptake"
   ]
  },
  {
   "cell_type": "markdown",
   "metadata": {
    "slideshow": {
     "slide_type": "slide"
    }
   },
   "source": [
    "# CasPyTep Requirements\n",
    "\n",
    " - Castep source code - tested with version 17.21 (additional patch required)\n",
    " - Supported Fortran compiler (gfortran or ifort)\n",
    " - [Python](http://www.python.org) >= 2.6 or Python 3.x \n",
    " - [Numpy](http://www.numpy.org) >= 1.3: `pip install numpy`\n",
    " - [f90wrap](https://github.com/jameskermode/f90wrap) package: `pip install git+https://github.com/jameskermode/f90wrap`\n",
    " - [Atomic Simulation Enviroment](https://wiki.fysik.dtu.dk/ase/) (ASE): `pip install ase`\n"
   ]
  },
  {
   "cell_type": "markdown",
   "metadata": {
    "slideshow": {
     "slide_type": "slide"
    }
   },
   "source": [
    "# Compiling CasPyTep\n",
    "\n",
    "In principle:\n",
    "\n",
    "    tar xvzf CASTEP-17.21.tar.gz\n",
    "    cd CASTEP-17.21\n",
    "    patch -p1 < CasPyTep.patch\n",
    "    make\n",
    "    make python\n",
    "    make python-install\n",
    "\n",
    "In practice its a bit fiddly..."
   ]
  },
  {
   "cell_type": "markdown",
   "metadata": {
    "slideshow": {
     "slide_type": "slide"
    }
   },
   "source": [
    "# CasPyTep Docker image\n",
    "\n",
    "<img src=\"https://d1q6f0aelx0por.cloudfront.net/icons/docker-edition-windows6.png\" width=\"10%\" align=\"left\" style=\"padding:10px;\">\n",
    "   \n",
    "Easiest to use CasPyTep via a pre-build [Docker](https://www.docker.com) image that extends our [libatomsquip](https://hub.docker.com/u/libatomsquip/) image, and comes fully loaded with Python dependencies plus nice-to-have extras (e.g. numpy, ASE, QUIP, matplotlib, jupyter, LAMMPS, GPAW, Julia...).\n",
    "\n",
    "<br>\n",
    "\n",
    "**Starting the Docker image:**\n",
    "\n",
    "    curl -L -o caspytep.tar.gz https://goo.gl/c94xMB\n",
    "    gzcat caspytep.tar.gz | docker load\n",
    "    docker run -v ~:/root/host -p 8899:8899 caspytep\n",
    "\n",
    "- `-p` required to redirect port used by Juypyter notebook webserver\n",
    "- `-v` optional argument mounts your home directory inside the container\n",
    "    \n",
    "Then point your web brower at http://localhost:8899"
   ]
  },
  {
   "cell_type": "markdown",
   "metadata": {
    "slideshow": {
     "slide_type": "slide"
    }
   },
   "source": [
    "# CasPyTep Current Features\n",
    "\n",
    "- Set of source files currently wrapped is as follows, can be easily expanded:\n",
    "\n",
    "        Utility:     constants.F90 algor.F90 comms.serial.F90\n",
    "                     io.F90 trace.F90 license.F90 buildinfo.f90\n",
    "        Fundamental: parameters.F90 cell.F90 basis.F90 \n",
    "                     ion.F90 density.F90 wave.F90\n",
    "        Functional:  model.F90 electronic.F90 firstd.f90\n",
    "        \n",
    "- Already far too much to wrap by hand: \n",
    "   - 35 kLOC Fortran and 55 kLOC Python auto-generated \n",
    "   - 23 derived types \n",
    "   - ~2600 subroutines/functions"
   ]
  },
  {
   "cell_type": "markdown",
   "metadata": {
    "slideshow": {
     "slide_type": "slide"
    }
   },
   "source": [
    "# What is wrapped?\n",
    "\n",
    "- Dynamic introspection of data and objects:\n",
    "    - Module-level variables: `current_cell`, etc (*NB:* must have `target` attribute)\n",
    "    - Fortran derived types exposed as Python classes (e.g `unit_cell`, `model_state`), including all elements, arrays, etc. within them\n",
    "    - Arrays (including arrays of derived types) - no copying necessary to access data in numerical arrays e.g. `current_cell%ionic_positions` exposed directly in Python\n",
    "- Documentation strings are extracted from source code\n",
    "- `io_abort()` raises `RuntimeError` exception\n",
    "- Plus, there's a minimal ASE-compatible high level calculator `CasPyTep(atoms)`"
   ]
  },
  {
   "cell_type": "markdown",
   "metadata": {
    "slideshow": {
     "slide_type": "slide"
    }
   },
   "source": [
    "# Taking `caspytep` for a test drive"
   ]
  },
  {
   "cell_type": "code",
   "execution_count": null,
   "metadata": {
    "collapsed": true
   },
   "outputs": [],
   "source": [
    "import numpy as np\n",
    "import caspytep"
   ]
  },
  {
   "cell_type": "code",
   "execution_count": null,
   "metadata": {
    "collapsed": true
   },
   "outputs": [],
   "source": [
    "## uncomment line below and press TAB for autocompletion\n",
    "#caspytep.\n",
    "#caspytep.cell.unit_cell."
   ]
  },
  {
   "cell_type": "code",
   "execution_count": null,
   "metadata": {
    "collapsed": true
   },
   "outputs": [],
   "source": [
    "## append a ? to access documentation strings\n",
    "#caspytep.model.model_wave_read?\n",
    "#caspytep.cell.cell_read?"
   ]
  },
  {
   "cell_type": "markdown",
   "metadata": {
    "slideshow": {
     "slide_type": "slide"
    }
   },
   "source": [
    "## Single point calculation\n",
    "\n",
    "This uses the ASE-compatible interface provided by the `CasPyTep` class."
   ]
  },
  {
   "cell_type": "code",
   "execution_count": null,
   "metadata": {
    "scrolled": true
   },
   "outputs": [],
   "source": [
    "from ase.build import bulk\n",
    "atoms = bulk('Si', cubic=True)\n",
    "with capture_stdout():\n",
    "    calc = caspytep.calculator.CasPyTep(atoms=atoms)\n",
    "    atoms.set_calculator(calc)\n",
    "    e = atoms.get_potential_energy()\n",
    "    f = atoms.get_forces()\n",
    "print 'energy', e\n",
    "print 'force', f"
   ]
  },
  {
   "cell_type": "markdown",
   "metadata": {
    "slideshow": {
     "slide_type": "slide"
    }
   },
   "source": [
    "## Interactive introspection\n",
    "\n",
    "Unlike with standard ASE or other scripting approaches, after running a calculation, we can now poke around in all the internal arrays:"
   ]
  },
  {
   "cell_type": "code",
   "execution_count": null,
   "metadata": {
    "collapsed": true
   },
   "outputs": [],
   "source": [
    "#calc.model.eigenvalues\n",
    "#calc.model.cell.ionic_positions\n",
    "#calc.model.cell.ionic_positions[...,0]\n",
    "#calc.model.wvfn.beta_phi\n",
    "#calc.model.cell.ionic_velocities.T\n",
    "#calc.parameters.cut_off_energy"
   ]
  },
  {
   "cell_type": "markdown",
   "metadata": {
    "slideshow": {
     "slide_type": "slide"
    }
   },
   "source": [
    "## Postprocessing and Visualisation"
   ]
  },
  {
   "cell_type": "code",
   "execution_count": null,
   "metadata": {},
   "outputs": [],
   "source": [
    "from ase.units import Bohr\n",
    "p = calc.model.cell.ionic_positions.copy()\n",
    "p = p[:, :, 0] # first species only\n",
    "p = np.dot(calc.model.cell.real_lattice.T, p)\n",
    "xi, yi, zi = p*Bohr\n",
    "scatter(xi, yi, s=200, c='r')\n",
    "axis([0, atoms.cell[0,0], 0, atoms.cell[1,1]]); axis(\"scaled\");"
   ]
  },
  {
   "cell_type": "code",
   "execution_count": null,
   "metadata": {
    "slideshow": {
     "slide_type": "slide"
    }
   },
   "outputs": [],
   "source": [
    "# overlay the charge density\n",
    "scatter(xi, yi, s=200, c='r')\n",
    "den = calc.model.den.real_charge.copy()\n",
    "basis = caspytep.basis.get_current_basis()\n",
    "den3 = (den.reshape((basis.ngx, basis.ngy, \n",
    "                     basis.ngz), order='F') / \n",
    "        basis.total_grid_points)\n",
    "imshow(den3[:, :, basis.ngz/2],\n",
    "       extent=[0, atoms.cell[0,0], 0, atoms.cell[1,1]]);"
   ]
  },
  {
   "cell_type": "markdown",
   "metadata": {
    "slideshow": {
     "slide_type": "slide"
    }
   },
   "source": [
    "# Updating data inside a running Castep instance\n",
    "\n",
    "- So far this is just analysis/post-processing, but could easily go beyond this and **steer calculations** based on results of e.g. Bader analysis.\n",
    "- In the simplest case, we can move the ions and continue the calculation without having to restart from scratch (or do any I/O of `.check` files etc.).\n",
    "- This allows embedded Castep to be **efficiently** used as a standard ASE calculator, with existing high-level algorithms: geometry optimisation, NEB, basin hopping, etc.\n",
    "- Compared to file-based interface, save overhead of starting Castep each time\n",
    "- Reuse electronic model from one ionic step to the next\n",
    "- Wavefunction and charge density extrapolation possible just as in MD"
   ]
  },
  {
   "cell_type": "markdown",
   "metadata": {
    "slideshow": {
     "slide_type": "slide"
    }
   },
   "source": [
    "# Example 1 - geometry optimisation"
   ]
  },
  {
   "cell_type": "code",
   "execution_count": null,
   "metadata": {
    "slideshow": {
     "slide_type": "-"
    }
   },
   "outputs": [],
   "source": [
    "from ase.build import bulk\n",
    "from ase.optimize import LBFGS\n",
    "from caspytep.calculator import CasPyTep\n",
    "\n",
    "atoms = bulk(\"Si\", cubic=True)\n",
    "calc = CasPyTep(atoms=atoms)\n",
    "atoms.set_calculator(calc)\n",
    "atoms.rattle(0.01)\n",
    "opt = LBFGS(atoms)\n",
    "opt.run(fmax=0.1)\n",
    "print atoms.get_potential_energy()"
   ]
  },
  {
   "cell_type": "markdown",
   "metadata": {
    "slideshow": {
     "slide_type": "slide"
    }
   },
   "source": [
    "# Example 2 - testing new algorithms\n",
    "\n",
    "Python interface makes it quick to try out new high-level algorithms or connect things in new ways, e.g. testing a new preconditioned geometry optimizer [[Packwood2016](http://aip.scitation.org/doi/full/10.1063/1.4947024)]"
   ]
  },
  {
   "cell_type": "code",
   "execution_count": null,
   "metadata": {
    "scrolled": true
   },
   "outputs": [],
   "source": [
    "from ase.optimize.precon import PreconLBFGS\n",
    "from caspytep.calculator import CasPyTep\n",
    "\n",
    "a0 = bulk('Si', cubic=True) * (2, 1, 1)\n",
    "s = a0.get_scaled_positions(); s[:, 0] *= 0.98; a0.set_scaled_positions(s)\n",
    "for OPT in [LBFGS, PreconLBFGS]:\n",
    "    atoms = a0.copy()\n",
    "    atoms.set_calculator(CasPyTep(atoms=atoms))\n",
    "    opt = OPT(atoms)\n",
    "    opt.run(fmax=0.05)"
   ]
  },
  {
   "cell_type": "markdown",
   "metadata": {
    "slideshow": {
     "slide_type": "slide"
    }
   },
   "source": [
    "# Example 3 -  convergence testing\n",
    "\n",
    "This is an example of using the native CasPyTep interface directly rather than the ASE compatibility layer. We increase the plane wave cutoff energy in steps of 10% until energy changes by less than $10^{-3}$ Hartree. (This isn't the best way to do convergence testing...)"
   ]
  },
  {
   "cell_type": "code",
   "execution_count": null,
   "metadata": {
    "collapsed": true
   },
   "outputs": [],
   "source": [
    "from ase.build import bulk\n",
    "from caspytep.calculator import CasPyTep\n",
    "\n",
    "calc = CasPyTep(atoms=bulk(\"Si\")) # 2-atom Si system\n",
    "\n",
    "energy_tol = 1e-4\n",
    "current_params = caspytep.parameters.get_current_params()\n",
    "current_params.cut_off_energy = 7.0\n",
    "\n",
    "cutoffs = []\n",
    "energy = []"
   ]
  },
  {
   "cell_type": "code",
   "execution_count": null,
   "metadata": {
    "slideshow": {
     "slide_type": "slide"
    }
   },
   "outputs": [],
   "source": [
    "while True:\n",
    "    caspytep.basis.basis_initialise(current_params.cut_off_energy)\n",
    "    current_params.fine_gmax = (current_params.fine_grid_scale *\n",
    "                                np.sqrt(2.0*current_params.cut_off_energy))\n",
    "    caspytep.ion.ion_real_initialise()\n",
    "    model = caspytep.model.model_state()\n",
    "    model.converged = caspytep.electronic.electronic_minimisation(model)\n",
    "    current_params.cut_off_energy *= 1.1    \n",
    "    print 'cutoff %.2f energy %.5f' % (current_params.cut_off_energy, \n",
    "                                       model.total_energy)\n",
    "    cutoffs.append(current_params.cut_off_energy)\n",
    "    energy.append(model.total_energy)    \n",
    "    if len(energy) > 2 and abs(energy[-1] - energy[-2]) < energy_tol:\n",
    "        print 'converged at cutoff', cutoffs[-1]\n",
    "        break"
   ]
  },
  {
   "cell_type": "code",
   "execution_count": null,
   "metadata": {
    "slideshow": {
     "slide_type": "slide"
    }
   },
   "outputs": [],
   "source": [
    "from ase.units import Hartree\n",
    "ecut = np.array(cutoffs)*Hartree\n",
    "ediff = np.array(energy)*Hartree\n",
    "ediff -= ediff[-1]\n",
    "plot(ecut, abs(ediff), 'o-')\n",
    "xlabel('Cutoff / eV')\n",
    "ylabel('Energy / eV')\n",
    "axhline(0.01, linestyle='--')"
   ]
  },
  {
   "cell_type": "markdown",
   "metadata": {
    "slideshow": {
     "slide_type": "slide"
    }
   },
   "source": [
    "# Missing features (aka ideas for practical session!)\n",
    "\n",
    "- Make more example scripts and notebooks, e.g.:\n",
    "    - MD with wavefunction extrapolation\n",
    "    - Introspection and visualisation of wavefunctions/densities *in situ*\n",
    "    - Integrate with your favourite post-processing/analysis tools - e.g. *OptaPyDOS*\n",
    "- Improve Castep re-entrancy to allow multiple models/cells (partially done?)\n",
    "    - e.g. allow `current_cell` to be updated in place without having to call `cell_read()`:\n",
    "    should separate `cell_read()` into `cell_read()` and `cell_initialise()`\n",
    "- Think more about what to reset when configuration changes...\n",
    "    - e.g. symmetry operations may need to be updated when ions move\n",
    "- Experiment with MPI parallelisation and benchmark wrt standard Castep\n",
    "    - `mpirun -np N python script.py` works if CasPyTep compiled with MPI libraries    "
   ]
  },
  {
   "cell_type": "markdown",
   "metadata": {
    "slideshow": {
     "slide_type": "slide"
    }
   },
   "source": [
    "# Over to you...\n",
    "\n",
    "Download the image and have a play with CasPyTep in the practical session.\n",
    "\n",
    "Install [Docker CE](https://www.docker.com/community-edition#/download) (free download) on your Linux/Mac/Windows machine (root access required), then:\n",
    "\n",
    "    curl -L -o caspytep.tar.gz https://goo.gl/c94xMB\n",
    "    gzcat caspytep.tar.gz | docker load\n",
    "    docker run -v ~:/root/host -p 8899:8899 caspytep\n",
    "    \n",
    "Then point your web brower at http://localhost:8899 and browse to **noteboooks > demo.ipynb** to open this notebook. \n",
    "\n",
    "\n",
    "To open a `bash` shell instead:\n",
    "\n",
    "    docker run -v ~:/root/host -it caspytep /bin/bash\n",
    "    $ python\n",
    "    >>> import caspytep"
   ]
  }
 ],
 "metadata": {
  "celltoolbar": "Slideshow",
  "kernelspec": {
   "display_name": "Python 2",
   "language": "python",
   "name": "python2"
  },
  "language_info": {
   "codemirror_mode": {
    "name": "ipython",
    "version": 2
   },
   "file_extension": ".py",
   "mimetype": "text/x-python",
   "name": "python",
   "nbconvert_exporter": "python",
   "pygments_lexer": "ipython2",
   "version": "2.7.13"
  }
 },
 "nbformat": 4,
 "nbformat_minor": 1
}
